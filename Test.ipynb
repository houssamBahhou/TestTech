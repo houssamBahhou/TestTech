{
 "cells": [
  {
   "cell_type": "code",
   "execution_count": 16,
   "metadata": {},
   "outputs": [],
   "source": [
    "import pyodbc\n",
    "import pandas as pd\n",
    "import json"
   ]
  },
  {
   "cell_type": "markdown",
   "metadata": {},
   "source": [
    "## 1. Connection à la base TestTech sur SQL Server"
   ]
  },
  {
   "cell_type": "code",
   "execution_count": 4,
   "metadata": {},
   "outputs": [
    {
     "data": {
      "text/plain": [
       "['SQL Server',\n",
       " 'Microsoft Access Driver (*.mdb, *.accdb)',\n",
       " 'Microsoft Excel Driver (*.xls, *.xlsx, *.xlsm, *.xlsb)',\n",
       " 'Microsoft Access Text Driver (*.txt, *.csv)',\n",
       " 'SQL Server Native Client 11.0',\n",
       " 'SQL Server Native Client RDA 11.0',\n",
       " 'ODBC Driver 17 for SQL Server']"
      ]
     },
     "execution_count": 4,
     "metadata": {},
     "output_type": "execute_result"
    }
   ],
   "source": [
    "pyodbc.drivers()"
   ]
  },
  {
   "cell_type": "code",
   "execution_count": 25,
   "metadata": {},
   "outputs": [],
   "source": [
    "conn = pyodbc.connect(\n",
    "    Trusted_Connected = \"Yes\",\n",
    "    Driver = '{SQL Server}',\n",
    "    Server = 'LAPTOP-IEBP4MPB\\SQLEXPRESS',\n",
    "    Database = \"TestTech\"\n",
    ")\n",
    "\n",
    "cursor = conn.cursor()"
   ]
  },
  {
   "cell_type": "markdown",
   "metadata": {},
   "source": [
    "## 2. Pipeline de Data Ingestion  (ETL)"
   ]
  },
  {
   "cell_type": "markdown",
   "metadata": {},
   "source": [
    "### Lecture des fichiers csv par pandas (Extract)"
   ]
  },
  {
   "cell_type": "code",
   "execution_count": 8,
   "metadata": {},
   "outputs": [],
   "source": [
    "df_lieux = pd.read_csv('data/lieux.csv')\n",
    "df_people = pd.read_csv('data/people.csv')"
   ]
  },
  {
   "cell_type": "code",
   "execution_count": 6,
   "metadata": {},
   "outputs": [
    {
     "name": "stdout",
     "output_type": "stream",
     "text": [
      "<class 'pandas.core.frame.DataFrame'>\n",
      "RangeIndex: 100 entries, 0 to 99\n",
      "Data columns (total 3 columns):\n",
      " #   Column       Non-Null Count  Dtype \n",
      "---  ------       --------------  ----- \n",
      " 0   commune      100 non-null    object\n",
      " 1   departement  100 non-null    object\n",
      " 2   region       100 non-null    object\n",
      "dtypes: object(3)\n",
      "memory usage: 2.5+ KB\n"
     ]
    }
   ],
   "source": [
    "df_lieux.info()"
   ]
  },
  {
   "cell_type": "code",
   "execution_count": 8,
   "metadata": {},
   "outputs": [
    {
     "name": "stdout",
     "output_type": "stream",
     "text": [
      "<class 'pandas.core.frame.DataFrame'>\n",
      "RangeIndex: 10000 entries, 0 to 9999\n",
      "Data columns (total 4 columns):\n",
      " #   Column          Non-Null Count  Dtype \n",
      "---  ------          --------------  ----- \n",
      " 0   prenom          10000 non-null  object\n",
      " 1   nom             10000 non-null  object\n",
      " 2   date-naissance  10000 non-null  object\n",
      " 3   commune         10000 non-null  object\n",
      "dtypes: object(4)\n",
      "memory usage: 312.6+ KB\n"
     ]
    }
   ],
   "source": [
    "df_people.info()"
   ]
  },
  {
   "cell_type": "markdown",
   "metadata": {},
   "source": [
    "### Traitement des données (Transform)"
   ]
  },
  {
   "cell_type": "code",
   "execution_count": 9,
   "metadata": {},
   "outputs": [],
   "source": [
    "df_people.rename(columns = {'date-naissance':'date_naissance'}, inplace = True)"
   ]
  },
  {
   "cell_type": "code",
   "execution_count": 10,
   "metadata": {},
   "outputs": [
    {
     "data": {
      "text/html": [
       "<div>\n",
       "<style scoped>\n",
       "    .dataframe tbody tr th:only-of-type {\n",
       "        vertical-align: middle;\n",
       "    }\n",
       "\n",
       "    .dataframe tbody tr th {\n",
       "        vertical-align: top;\n",
       "    }\n",
       "\n",
       "    .dataframe thead th {\n",
       "        text-align: right;\n",
       "    }\n",
       "</style>\n",
       "<table border=\"1\" class=\"dataframe\">\n",
       "  <thead>\n",
       "    <tr style=\"text-align: right;\">\n",
       "      <th></th>\n",
       "      <th>prenom</th>\n",
       "      <th>nom</th>\n",
       "      <th>date_naissance</th>\n",
       "      <th>commune</th>\n",
       "    </tr>\n",
       "  </thead>\n",
       "  <tbody>\n",
       "    <tr>\n",
       "      <th>0</th>\n",
       "      <td>Camille</td>\n",
       "      <td>Collin</td>\n",
       "      <td>2021-07-31</td>\n",
       "      <td>Champigny-sur-Marne</td>\n",
       "    </tr>\n",
       "    <tr>\n",
       "      <th>1</th>\n",
       "      <td>Astrid</td>\n",
       "      <td>Fournier</td>\n",
       "      <td>1987-08-15</td>\n",
       "      <td>Sarcelles</td>\n",
       "    </tr>\n",
       "    <tr>\n",
       "      <th>2</th>\n",
       "      <td>Danielle</td>\n",
       "      <td>Vallée</td>\n",
       "      <td>1997-07-22</td>\n",
       "      <td>Montreuil</td>\n",
       "    </tr>\n",
       "    <tr>\n",
       "      <th>3</th>\n",
       "      <td>Sabine</td>\n",
       "      <td>Bailly</td>\n",
       "      <td>2002-06-07</td>\n",
       "      <td>Saint-Nazaire</td>\n",
       "    </tr>\n",
       "    <tr>\n",
       "      <th>4</th>\n",
       "      <td>Agathe</td>\n",
       "      <td>Guillon</td>\n",
       "      <td>1984-11-12</td>\n",
       "      <td>Paris</td>\n",
       "    </tr>\n",
       "    <tr>\n",
       "      <th>...</th>\n",
       "      <td>...</td>\n",
       "      <td>...</td>\n",
       "      <td>...</td>\n",
       "      <td>...</td>\n",
       "    </tr>\n",
       "    <tr>\n",
       "      <th>9995</th>\n",
       "      <td>Susanne</td>\n",
       "      <td>Jacob</td>\n",
       "      <td>1974-02-23</td>\n",
       "      <td>Aix-en-Provence</td>\n",
       "    </tr>\n",
       "    <tr>\n",
       "      <th>9996</th>\n",
       "      <td>Céline</td>\n",
       "      <td>Léger</td>\n",
       "      <td>1977-07-15</td>\n",
       "      <td>Bordeaux</td>\n",
       "    </tr>\n",
       "    <tr>\n",
       "      <th>9997</th>\n",
       "      <td>Marine</td>\n",
       "      <td>Alexandre</td>\n",
       "      <td>1981-03-21</td>\n",
       "      <td>Metz</td>\n",
       "    </tr>\n",
       "    <tr>\n",
       "      <th>9998</th>\n",
       "      <td>Maryse</td>\n",
       "      <td>Marion</td>\n",
       "      <td>1990-12-12</td>\n",
       "      <td>Issy-les-Moulineaux</td>\n",
       "    </tr>\n",
       "    <tr>\n",
       "      <th>9999</th>\n",
       "      <td>Marianne</td>\n",
       "      <td>Courtois</td>\n",
       "      <td>1975-04-09</td>\n",
       "      <td>Cergy</td>\n",
       "    </tr>\n",
       "  </tbody>\n",
       "</table>\n",
       "<p>10000 rows × 4 columns</p>\n",
       "</div>"
      ],
      "text/plain": [
       "        prenom        nom date_naissance              commune\n",
       "0      Camille     Collin     2021-07-31  Champigny-sur-Marne\n",
       "1       Astrid   Fournier     1987-08-15            Sarcelles\n",
       "2     Danielle     Vallée     1997-07-22            Montreuil\n",
       "3       Sabine     Bailly     2002-06-07        Saint-Nazaire\n",
       "4       Agathe    Guillon     1984-11-12                Paris\n",
       "...        ...        ...            ...                  ...\n",
       "9995   Susanne      Jacob     1974-02-23      Aix-en-Provence\n",
       "9996    Céline      Léger     1977-07-15             Bordeaux\n",
       "9997    Marine  Alexandre     1981-03-21                 Metz\n",
       "9998    Maryse     Marion     1990-12-12  Issy-les-Moulineaux\n",
       "9999  Marianne   Courtois     1975-04-09                Cergy\n",
       "\n",
       "[10000 rows x 4 columns]"
      ]
     },
     "execution_count": 10,
     "metadata": {},
     "output_type": "execute_result"
    }
   ],
   "source": [
    "df_people['date_naissance'] = pd.to_datetime(df_people.date_naissance)\n",
    "df_people"
   ]
  },
  {
   "cell_type": "markdown",
   "metadata": {},
   "source": [
    "### Chargement des données sur la base TestTech sur SQL Server (Load)"
   ]
  },
  {
   "cell_type": "code",
   "execution_count": 11,
   "metadata": {},
   "outputs": [],
   "source": [
    "for row in df_lieux.itertuples():\n",
    "    cursor.execute('''\n",
    "                INSERT INTO lieux (commune, departement, region)\n",
    "                VALUES (?,?,?)\n",
    "                ''',\n",
    "                row.commune, \n",
    "                row.departement,\n",
    "                row.region\n",
    "                )\n",
    "for row in df_people.itertuples():\n",
    "    cursor.execute('''\n",
    "                INSERT INTO people (prenom, nom, date_naissance, commune)\n",
    "                VALUES (?,?,?,?)\n",
    "                ''',\n",
    "                row.prenom, \n",
    "                row.nom,\n",
    "                row.date_naissance,\n",
    "                row.commune\n",
    "                )\n",
    "conn.commit()"
   ]
  },
  {
   "cell_type": "markdown",
   "metadata": {},
   "source": [
    "## 3. Génération des résultats"
   ]
  },
  {
   "cell_type": "code",
   "execution_count": 14,
   "metadata": {},
   "outputs": [],
   "source": [
    "cursor.execute('''\n",
    "SELECT lieux.departement, COUNT(people.id_people) \n",
    "FROM people\n",
    "INNER JOIN lieux ON lieux.commune = people.commune\n",
    "GROUP BY lieux.departement\n",
    "''')\n",
    "departements_rows = cursor.fetchall()\n",
    "departements_res = {}\n",
    "for r in departements_rows:\n",
    "    departements_res[r[0]] = r[1]"
   ]
  },
  {
   "cell_type": "code",
   "execution_count": 15,
   "metadata": {},
   "outputs": [],
   "source": [
    "cursor.execute('''\n",
    "SELECT lieux.region, COUNT(people.id_people) \n",
    "FROM people\n",
    "INNER JOIN lieux ON lieux.commune = people.commune\n",
    "GROUP BY lieux.region\n",
    "''')\n",
    "regions_rows = cursor.fetchall()\n",
    "regions_res = {}\n",
    "for r in regions_rows:\n",
    "    regions_res[r[0]] = r[1]"
   ]
  },
  {
   "cell_type": "code",
   "execution_count": 26,
   "metadata": {},
   "outputs": [],
   "source": [
    "cursor.close()"
   ]
  },
  {
   "cell_type": "code",
   "execution_count": 22,
   "metadata": {},
   "outputs": [],
   "source": [
    "regions_json = \"./results/regions.json\"\n",
    "data_region = json.dumps(regions_res, sort_keys=True, ensure_ascii=False)\n",
    "with open(regions_json,\"w\",encoding=\"utf8\") as rj:\n",
    "    rj.write(data_region)\n"
   ]
  },
  {
   "cell_type": "code",
   "execution_count": 21,
   "metadata": {},
   "outputs": [],
   "source": [
    "departements_json = \"./results/departements.json\"\n",
    "data_departement = json.dumps(departements_res, sort_keys=True, ensure_ascii=False)\n",
    "with open(departements_json,\"w\",encoding=\"utf8\") as dj:\n",
    "    dj.write(data_departement)"
   ]
  }
 ],
 "metadata": {
  "interpreter": {
   "hash": "04635d289a519a1410467dd0afb0db42f9184808881ca68b2eb5a687a20a5a94"
  },
  "kernelspec": {
   "display_name": "Python 3.7.0 64-bit",
   "language": "python",
   "name": "python3"
  },
  "language_info": {
   "codemirror_mode": {
    "name": "ipython",
    "version": 3
   },
   "file_extension": ".py",
   "mimetype": "text/x-python",
   "name": "python",
   "nbconvert_exporter": "python",
   "pygments_lexer": "ipython3",
   "version": "3.9.0"
  },
  "orig_nbformat": 4
 },
 "nbformat": 4,
 "nbformat_minor": 2
}
